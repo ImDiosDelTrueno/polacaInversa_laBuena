{
  "nbformat": 4,
  "nbformat_minor": 0,
  "metadata": {
    "colab": {
      "provenance": []
    },
    "kernelspec": {
      "name": "python3",
      "display_name": "Python 3"
    },
    "language_info": {
      "name": "python"
    }
  },
  "cells": [
    {
      "cell_type": "code",
      "execution_count": 2,
      "metadata": {
        "colab": {
          "base_uri": "https://localhost:8080/"
        },
        "id": "0c6qeIpwbMgx",
        "outputId": "2f907b32-b272-41bf-a7ef-15ca1ac7ac6f"
      },
      "outputs": [
        {
          "output_type": "stream",
          "name": "stdout",
          "text": [
            "Expresión en notación polaca inversa: 9 3 2 + 2 ** * 2 +\n"
          ]
        }
      ],
      "source": [
        "#codigo de:\n",
        "#Gómez Guzmán Luis Enrique\n",
        "#Ayala Blancas Karla Marietta\n",
        "#con esta funcion definimos la jerarquia\n",
        "def jerarquia(operador): #jerarquia de mayor a menor\n",
        "    if operador in ('+', '-'):\n",
        "        return 1\n",
        "    elif operador in ('*', '/'):\n",
        "        return 2\n",
        "    elif operador == '**':\n",
        "        return 3\n",
        "    return 0\n",
        "\n",
        "\n",
        "# esta función es para convertir una expresión a notación polaca inversa (\n",
        "def polacaInversa(elemento):\n",
        "    pila = []  #creacion de la pila\n",
        "    salida = [] #aqui vamos a almacenar la salida\n",
        "    i = 0\n",
        "    while i < len(elemento):\n",
        "        caracter = elemento[i]\n",
        "\n",
        "        # si el carácter es un número, se almacena en la salida\n",
        "        #con isdigit verificamos que el caracter sea un numero\n",
        "        if caracter.isdigit():\n",
        "            numero = caracter\n",
        "            while i + 1 < len(elemento) and elemento[i + 1].isdigit():\n",
        "                i += 1\n",
        "                numero += elemento[i]\n",
        "            salida.append(numero)\n",
        "\n",
        "        #si es  paréntesis izquierdo '('se añadd a la pila\n",
        "        elif caracter == '(':\n",
        "            pila.append(caracter)\n",
        "\n",
        "        #si es paréntesis derecho ')', vaciamos la pila hasta\n",
        "        #el paréntesis izquierdo\n",
        "        elif caracter == ')':\n",
        "            while pila and pila[-1] != '(':\n",
        "                salida.append(pila.pop())\n",
        "            pila.pop()  #se elimina  el '(' de la pila\n",
        "\n",
        "        #para los operadores\n",
        "        elif caracter in ['+', '-', '*', '/', '**']:\n",
        "            if caracter == '*' and i + 1 < len(elemento) and elemento[i + 1] == '*':\n",
        "                caracter = '**'\n",
        "                i += 1  #iteramos para las potencias\n",
        "\n",
        "            #ciclo para  la jerarquia e la pila\n",
        "            while pila and jerarquia(caracter) <= jerarquia(pila[-1]):\n",
        "                salida.append(pila.pop())\n",
        "            pila.append(caracter)\n",
        "\n",
        "        i += 1\n",
        "\n",
        "    #vaciamos la pila\n",
        "    while pila:\n",
        "        salida.append(pila.pop())\n",
        "    #con join, convertimos la lista (nuestra salida) a una cadena de caracteres\n",
        "    return ' '.join(salida)\n",
        "\n",
        "\n",
        "\n",
        "elemento = \" 9 * ( 3 + 2 ) ** 2 + 2\"\n",
        "#eliminamos espacios con replace\n",
        "elemento = elemento.replace(\" \", \"\")\n",
        "#cadena inicial a la cadena con la notacion polaca inversa\n",
        "polaca = polacaInversa(elemento)\n",
        "print(\"Expresión en notación polaca inversa:\", polaca)\n",
        "\n",
        "archivo = open(\"Reporte.txt\", \"w\")\n",
        "archivo.write(\"En este reporte se describe como funciona el algoritmo de nuestra practica.\\n\")\n",
        "archivo.write(\"En primer lugar vamos a definir las funciones jerarquia y polaca_inversa\\n\")\n",
        "archivo.write(\"en la primer función definimos la jerarquia de los operadores de acuerdo a PEMDAS,\\n\")\n",
        "archivo.write(\"en la seguna función definimos el algoritmo que creamos para desarrollar la notación polaca inversa,\\n\")\n",
        "archivo.write(\"en este punto necesitamos definir una pila de entrada y una de salida.\\n\")\n",
        "archivo.write(\"Escribimos nuestro primer ciclo con las condiciones:\\n\")\n",
        "archivo.write(\"Si el elemento es un número, se almacena en la pila de salida\\n\")\n",
        "archivo.write(\"Si el elemento es un operador especificamente '(', se añade a la pila\\n\")\n",
        "archivo.write(\"Para paréntesis derechos ')', vaciamos la pila hasta el paréntesis izquierdo\\n\")\n",
        "archivo.write(\"Definimos las condiciones para los operadores: \\n\")\n",
        "archivo.write(\"Si nuestro elemento es igual a alguno de estos operadores +,-,*,/,**\\n\")\n",
        "archivo.write(\"lo añadimos a la pila, su ordén en la pila dependera directamente de la jararquia antes establecida.\\n\")\n",
        "archivo.write(\"Utilizamos nuestro último ciclo para vaciar nuestra pila.\\n\")\n",
        "archivo.write(\"Convertimos nuestra pila de salida a una cadena.\\n\")\n",
        "archivo.write(\"Implementamos el método main, para definir:\\n\")\n",
        "archivo.write(\"La expresión original que convertimos a notación polaca.\\n\")\n",
        "archivo.write(\"Eliminamos los espacios extra en la expresión original.\\n\")\n",
        "archivo.write(\"La expresión final en notación polaca.\\n\")\n",
        "archivo.write(\"Y se imprimen los resultados del algoritmo.\\n\")\n",
        "\n",
        "archivo.close()"
      ]
    },
    {
      "cell_type": "code",
      "source": [],
      "metadata": {
        "id": "1TaUq313fzSi"
      },
      "execution_count": null,
      "outputs": []
    }
  ]
}